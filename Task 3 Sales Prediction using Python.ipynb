{
 "cells": [
  {
   "cell_type": "markdown",
   "id": "66f6e49e",
   "metadata": {},
   "source": [
    "<img src=\"banner-4-3.png\">\n"
   ]
  },
  {
   "cell_type": "code",
   "execution_count": 1,
   "id": "56b279c8",
   "metadata": {},
   "outputs": [],
   "source": [
    "# import pandas for data analysis\n",
    "import pandas as pd \n",
    "\n",
    "# import numpy for numerical computation\n",
    "import numpy as np\n",
    "\n",
    "# import matplotlib and seaborn for data visualization\n",
    "import matplotlib.pyplot as plt\n",
    "%matplotlib inline \n",
    "import seaborn as sns\n",
    "\n",
    "import warnings \n",
    "warnings.filterwarnings('ignore')\n",
    "\n",
    "#import scipy \n",
    "import scipy \n",
    "from scipy.stats import skew\n",
    "from scipy.stats import kurtosis\n",
    "import pylab as p\n",
    "\n",
    " \n",
    "import statsmodels.api as sm\n"
   ]
  },
  {
   "cell_type": "code",
   "execution_count": 251,
   "id": "dc45741d",
   "metadata": {},
   "outputs": [
    {
     "data": {
      "text/html": [
       "<div>\n",
       "<style scoped>\n",
       "    .dataframe tbody tr th:only-of-type {\n",
       "        vertical-align: middle;\n",
       "    }\n",
       "\n",
       "    .dataframe tbody tr th {\n",
       "        vertical-align: top;\n",
       "    }\n",
       "\n",
       "    .dataframe thead th {\n",
       "        text-align: right;\n",
       "    }\n",
       "</style>\n",
       "<table border=\"1\" class=\"dataframe\">\n",
       "  <thead>\n",
       "    <tr style=\"text-align: right;\">\n",
       "      <th></th>\n",
       "      <th>TV</th>\n",
       "      <th>Radio</th>\n",
       "      <th>Newspaper</th>\n",
       "      <th>Sales</th>\n",
       "    </tr>\n",
       "  </thead>\n",
       "  <tbody>\n",
       "    <tr>\n",
       "      <th>0</th>\n",
       "      <td>230.1</td>\n",
       "      <td>37.8</td>\n",
       "      <td>69.2</td>\n",
       "      <td>22.1</td>\n",
       "    </tr>\n",
       "    <tr>\n",
       "      <th>1</th>\n",
       "      <td>44.5</td>\n",
       "      <td>39.3</td>\n",
       "      <td>45.1</td>\n",
       "      <td>10.4</td>\n",
       "    </tr>\n",
       "    <tr>\n",
       "      <th>2</th>\n",
       "      <td>17.2</td>\n",
       "      <td>45.9</td>\n",
       "      <td>69.3</td>\n",
       "      <td>12.0</td>\n",
       "    </tr>\n",
       "    <tr>\n",
       "      <th>3</th>\n",
       "      <td>151.5</td>\n",
       "      <td>41.3</td>\n",
       "      <td>58.5</td>\n",
       "      <td>16.5</td>\n",
       "    </tr>\n",
       "    <tr>\n",
       "      <th>4</th>\n",
       "      <td>180.8</td>\n",
       "      <td>10.8</td>\n",
       "      <td>58.4</td>\n",
       "      <td>17.9</td>\n",
       "    </tr>\n",
       "  </tbody>\n",
       "</table>\n",
       "</div>"
      ],
      "text/plain": [
       "      TV  Radio  Newspaper  Sales\n",
       "0  230.1   37.8       69.2   22.1\n",
       "1   44.5   39.3       45.1   10.4\n",
       "2   17.2   45.9       69.3   12.0\n",
       "3  151.5   41.3       58.5   16.5\n",
       "4  180.8   10.8       58.4   17.9"
      ]
     },
     "execution_count": 251,
     "metadata": {},
     "output_type": "execute_result"
    }
   ],
   "source": [
    "df=pd.read_csv(r'advertising.csv')\n",
    "df.head()"
   ]
  },
  {
   "cell_type": "markdown",
   "id": "2c34be6e",
   "metadata": {},
   "source": [
    "## About Dataset"
   ]
  },
  {
   "cell_type": "markdown",
   "id": "33c1a6d4",
   "metadata": {},
   "source": [
    "- This dataset expresses sales according to the type of advertisement and the size of cost.\n",
    "- The dataset contains 3 features [TV,Radio,Newspaper] and target variable Sales."
   ]
  },
  {
   "cell_type": "markdown",
   "id": "e89411bf",
   "metadata": {},
   "source": [
    "### Understanding the Data"
   ]
  },
  {
   "cell_type": "code",
   "execution_count": 3,
   "id": "21e666a8",
   "metadata": {},
   "outputs": [
    {
     "name": "stdout",
     "output_type": "stream",
     "text": [
      "<class 'pandas.core.frame.DataFrame'>\n",
      "RangeIndex: 200 entries, 0 to 199\n",
      "Data columns (total 4 columns):\n",
      " #   Column     Non-Null Count  Dtype  \n",
      "---  ------     --------------  -----  \n",
      " 0   TV         200 non-null    float64\n",
      " 1   Radio      200 non-null    float64\n",
      " 2   Newspaper  200 non-null    float64\n",
      " 3   Sales      200 non-null    float64\n",
      "dtypes: float64(4)\n",
      "memory usage: 6.4 KB\n"
     ]
    }
   ],
   "source": [
    "df.info()"
   ]
  },
  {
   "cell_type": "code",
   "execution_count": 4,
   "id": "e7a36941",
   "metadata": {},
   "outputs": [
    {
     "name": "stdout",
     "output_type": "stream",
     "text": [
      "Shape of Dataset (200, 4)\n"
     ]
    }
   ],
   "source": [
    "print('Shape of Dataset',df.shape)"
   ]
  },
  {
   "cell_type": "code",
   "execution_count": 5,
   "id": "1bba066c",
   "metadata": {},
   "outputs": [
    {
     "data": {
      "text/html": [
       "<div>\n",
       "<style scoped>\n",
       "    .dataframe tbody tr th:only-of-type {\n",
       "        vertical-align: middle;\n",
       "    }\n",
       "\n",
       "    .dataframe tbody tr th {\n",
       "        vertical-align: top;\n",
       "    }\n",
       "\n",
       "    .dataframe thead th {\n",
       "        text-align: right;\n",
       "    }\n",
       "</style>\n",
       "<table border=\"1\" class=\"dataframe\">\n",
       "  <thead>\n",
       "    <tr style=\"text-align: right;\">\n",
       "      <th></th>\n",
       "      <th>TV</th>\n",
       "      <th>Radio</th>\n",
       "      <th>Newspaper</th>\n",
       "      <th>Sales</th>\n",
       "    </tr>\n",
       "  </thead>\n",
       "  <tbody>\n",
       "    <tr>\n",
       "      <th>count</th>\n",
       "      <td>200.000000</td>\n",
       "      <td>200.000000</td>\n",
       "      <td>200.000000</td>\n",
       "      <td>200.000000</td>\n",
       "    </tr>\n",
       "    <tr>\n",
       "      <th>mean</th>\n",
       "      <td>147.042500</td>\n",
       "      <td>23.264000</td>\n",
       "      <td>30.554000</td>\n",
       "      <td>15.130500</td>\n",
       "    </tr>\n",
       "    <tr>\n",
       "      <th>std</th>\n",
       "      <td>85.854236</td>\n",
       "      <td>14.846809</td>\n",
       "      <td>21.778621</td>\n",
       "      <td>5.283892</td>\n",
       "    </tr>\n",
       "    <tr>\n",
       "      <th>min</th>\n",
       "      <td>0.700000</td>\n",
       "      <td>0.000000</td>\n",
       "      <td>0.300000</td>\n",
       "      <td>1.600000</td>\n",
       "    </tr>\n",
       "    <tr>\n",
       "      <th>25%</th>\n",
       "      <td>74.375000</td>\n",
       "      <td>9.975000</td>\n",
       "      <td>12.750000</td>\n",
       "      <td>11.000000</td>\n",
       "    </tr>\n",
       "    <tr>\n",
       "      <th>50%</th>\n",
       "      <td>149.750000</td>\n",
       "      <td>22.900000</td>\n",
       "      <td>25.750000</td>\n",
       "      <td>16.000000</td>\n",
       "    </tr>\n",
       "    <tr>\n",
       "      <th>75%</th>\n",
       "      <td>218.825000</td>\n",
       "      <td>36.525000</td>\n",
       "      <td>45.100000</td>\n",
       "      <td>19.050000</td>\n",
       "    </tr>\n",
       "    <tr>\n",
       "      <th>max</th>\n",
       "      <td>296.400000</td>\n",
       "      <td>49.600000</td>\n",
       "      <td>114.000000</td>\n",
       "      <td>27.000000</td>\n",
       "    </tr>\n",
       "  </tbody>\n",
       "</table>\n",
       "</div>"
      ],
      "text/plain": [
       "               TV       Radio   Newspaper       Sales\n",
       "count  200.000000  200.000000  200.000000  200.000000\n",
       "mean   147.042500   23.264000   30.554000   15.130500\n",
       "std     85.854236   14.846809   21.778621    5.283892\n",
       "min      0.700000    0.000000    0.300000    1.600000\n",
       "25%     74.375000    9.975000   12.750000   11.000000\n",
       "50%    149.750000   22.900000   25.750000   16.000000\n",
       "75%    218.825000   36.525000   45.100000   19.050000\n",
       "max    296.400000   49.600000  114.000000   27.000000"
      ]
     },
     "execution_count": 5,
     "metadata": {},
     "output_type": "execute_result"
    }
   ],
   "source": [
    "df.describe()"
   ]
  },
  {
   "cell_type": "code",
   "execution_count": 6,
   "id": "7b49fa77",
   "metadata": {},
   "outputs": [
    {
     "data": {
      "text/plain": [
       "TV           0\n",
       "Radio        0\n",
       "Newspaper    0\n",
       "Sales        0\n",
       "dtype: int64"
      ]
     },
     "execution_count": 6,
     "metadata": {},
     "output_type": "execute_result"
    }
   ],
   "source": [
    "# checking for the null values\n",
    "df.isna().sum()"
   ]
  },
  {
   "cell_type": "markdown",
   "id": "a19e87d1",
   "metadata": {},
   "source": [
    "- No null value in the dataset."
   ]
  },
  {
   "cell_type": "code",
   "execution_count": 252,
   "id": "0dcf706d",
   "metadata": {},
   "outputs": [
    {
     "name": "stdout",
     "output_type": "stream",
     "text": [
      "Skewness\n",
      "TV\n",
      "-0.0693\n",
      "Radio\n",
      "0.0935\n",
      "Newspaper\n",
      "0.888\n"
     ]
    }
   ],
   "source": [
    "# calculate the Skewness\n",
    "print('Skewness')\n",
    "print('TV')\n",
    "print(round(skew(df.TV,axis=0,bias=True),4))\n",
    "\n",
    "print('Radio')\n",
    "print(round(skew(df.Radio,axis=0,bias=True),4))\n",
    "\n",
    "print('Newspaper')\n",
    "print(round(skew(df.Newspaper,axis=0,bias=True),4))"
   ]
  },
  {
   "cell_type": "code",
   "execution_count": 253,
   "id": "c1bbcaab",
   "metadata": {},
   "outputs": [
    {
     "name": "stdout",
     "output_type": "stream",
     "text": [
      "Kurtosis\n",
      "TV\n",
      "-1.2259\n",
      "Radio\n",
      "-1.259\n",
      "Newspaper\n",
      "0.6035\n"
     ]
    }
   ],
   "source": [
    "# Calculate the Kurtosis\n",
    "print('Kurtosis')\n",
    "print('TV')\n",
    "print(round(kurtosis(df.TV,axis=0,bias=True),4))\n",
    "\n",
    "print('Radio')\n",
    "print(round(kurtosis(df.Radio,axis=0,bias=True),4))\n",
    "\n",
    "print('Newspaper')\n",
    "print(round(kurtosis(df.Newspaper,axis=0,bias=True),4))"
   ]
  },
  {
   "cell_type": "markdown",
   "id": "5562e487",
   "metadata": {},
   "source": [
    "### Outlier Analysis"
   ]
  },
  {
   "cell_type": "code",
   "execution_count": 254,
   "id": "b845c08d",
   "metadata": {},
   "outputs": [
    {
     "data": {
      "image/png": "[encoded data removed]",
      "text/plain": [
       "<Figure size 500x500 with 3 Axes>"
      ]
     },
     "metadata": {},
     "output_type": "display_data"
    }
   ],
   "source": [
    "fig,axs=plt.subplots(3,figsize=(5,5))\n",
    "plt1=sns.boxplot(df['TV'],ax=axs[0])\n",
    "plt2=sns.boxplot(df['Radio'],ax=axs[1])\n",
    "plt3=sns.boxplot(df['Newspaper'],ax=axs[2])\n",
    "plt.tight_layout()\n",
    "plt.show()"
   ]
  },
  {
   "cell_type": "markdown",
   "id": "81297cbb",
   "metadata": {},
   "source": [
    "- There are no considerable outliers present in the data."
   ]
  },
  {
   "cell_type": "code",
   "execution_count": 255,
   "id": "88cd8052",
   "metadata": {},
   "outputs": [
    {
     "data": {
      "image/png": "[encoded data removed]",
      "text/plain": [
       "<Figure size 700x300 with 1 Axes>"
      ]
     },
     "metadata": {},
     "output_type": "display_data"
    }
   ],
   "source": [
    "plt.figure(figsize=(7,3))\n",
    "sns.boxplot(df['Sales'])\n",
    "plt.show()"
   ]
  },
  {
   "cell_type": "code",
   "execution_count": 256,
   "id": "4d3083f2",
   "metadata": {},
   "outputs": [
    {
     "data": {
      "image/png": "[encoded data removed]",
      "text/plain": [
       "<Figure size 750x250 with 3 Axes>"
      ]
     },
     "metadata": {},
     "output_type": "display_data"
    }
   ],
   "source": [
    "sns.pairplot(df,x_vars=['TV','Radio','Newspaper'],y_vars='Sales',kind='scatter')\n",
    "plt.show()"
   ]
  },
  {
   "cell_type": "markdown",
   "id": "d2a3ec26",
   "metadata": {},
   "source": [
    "- Above plot shows how Sales are realted with other variable using Scatter plot."
   ]
  },
  {
   "cell_type": "code",
   "execution_count": 257,
   "id": "f52a30a0",
   "metadata": {},
   "outputs": [
    {
     "data": {
      "image/png": "[encoded data removed]",
      "text/plain": [
       "<Figure size 640x480 with 2 Axes>"
      ]
     },
     "metadata": {},
     "output_type": "display_data"
    }
   ],
   "source": [
    "# let's see the corealation between the variable\n",
    "sns.heatmap(df.corr(),annot=True)\n",
    "plt.show()"
   ]
  },
  {
   "cell_type": "markdown",
   "id": "44e75f45",
   "metadata": {},
   "source": [
    "- As is visible from the pairplot and heatmap, the variable TV seems to be most corealated with Sales."
   ]
  },
  {
   "cell_type": "markdown",
   "id": "0a8691e3",
   "metadata": {},
   "source": [
    "### Machine Learning Model Building"
   ]
  },
  {
   "cell_type": "code",
   "execution_count": 258,
   "id": "88aaab03",
   "metadata": {},
   "outputs": [
    {
     "data": {
      "text/html": [
       "<div>\n",
       "<style scoped>\n",
       "    .dataframe tbody tr th:only-of-type {\n",
       "        vertical-align: middle;\n",
       "    }\n",
       "\n",
       "    .dataframe tbody tr th {\n",
       "        vertical-align: top;\n",
       "    }\n",
       "\n",
       "    .dataframe thead th {\n",
       "        text-align: right;\n",
       "    }\n",
       "</style>\n",
       "<table border=\"1\" class=\"dataframe\">\n",
       "  <thead>\n",
       "    <tr style=\"text-align: right;\">\n",
       "      <th></th>\n",
       "      <th>TV</th>\n",
       "      <th>Radio</th>\n",
       "      <th>Newspaper</th>\n",
       "      <th>Sales</th>\n",
       "    </tr>\n",
       "  </thead>\n",
       "  <tbody>\n",
       "    <tr>\n",
       "      <th>0</th>\n",
       "      <td>230.1</td>\n",
       "      <td>37.8</td>\n",
       "      <td>69.2</td>\n",
       "      <td>22.1</td>\n",
       "    </tr>\n",
       "    <tr>\n",
       "      <th>1</th>\n",
       "      <td>44.5</td>\n",
       "      <td>39.3</td>\n",
       "      <td>45.1</td>\n",
       "      <td>10.4</td>\n",
       "    </tr>\n",
       "    <tr>\n",
       "      <th>2</th>\n",
       "      <td>17.2</td>\n",
       "      <td>45.9</td>\n",
       "      <td>69.3</td>\n",
       "      <td>12.0</td>\n",
       "    </tr>\n",
       "    <tr>\n",
       "      <th>3</th>\n",
       "      <td>151.5</td>\n",
       "      <td>41.3</td>\n",
       "      <td>58.5</td>\n",
       "      <td>16.5</td>\n",
       "    </tr>\n",
       "    <tr>\n",
       "      <th>4</th>\n",
       "      <td>180.8</td>\n",
       "      <td>10.8</td>\n",
       "      <td>58.4</td>\n",
       "      <td>17.9</td>\n",
       "    </tr>\n",
       "  </tbody>\n",
       "</table>\n",
       "</div>"
      ],
      "text/plain": [
       "      TV  Radio  Newspaper  Sales\n",
       "0  230.1   37.8       69.2   22.1\n",
       "1   44.5   39.3       45.1   10.4\n",
       "2   17.2   45.9       69.3   12.0\n",
       "3  151.5   41.3       58.5   16.5\n",
       "4  180.8   10.8       58.4   17.9"
      ]
     },
     "execution_count": 258,
     "metadata": {},
     "output_type": "execute_result"
    }
   ],
   "source": [
    "df.head()"
   ]
  },
  {
   "cell_type": "code",
   "execution_count": 259,
   "id": "e1f0c66e",
   "metadata": {},
   "outputs": [],
   "source": [
    "X=sm.add_constant(df[['TV','Radio','Newspaper']])\n",
    "y=df['Sales']"
   ]
  },
  {
   "cell_type": "code",
   "execution_count": 260,
   "id": "ecce4eb1",
   "metadata": {},
   "outputs": [
    {
     "data": {
      "text/html": [
       "<div>\n",
       "<style scoped>\n",
       "    .dataframe tbody tr th:only-of-type {\n",
       "        vertical-align: middle;\n",
       "    }\n",
       "\n",
       "    .dataframe tbody tr th {\n",
       "        vertical-align: top;\n",
       "    }\n",
       "\n",
       "    .dataframe thead th {\n",
       "        text-align: right;\n",
       "    }\n",
       "</style>\n",
       "<table border=\"1\" class=\"dataframe\">\n",
       "  <thead>\n",
       "    <tr style=\"text-align: right;\">\n",
       "      <th></th>\n",
       "      <th>const</th>\n",
       "      <th>TV</th>\n",
       "      <th>Radio</th>\n",
       "      <th>Newspaper</th>\n",
       "    </tr>\n",
       "  </thead>\n",
       "  <tbody>\n",
       "    <tr>\n",
       "      <th>0</th>\n",
       "      <td>1.0</td>\n",
       "      <td>230.1</td>\n",
       "      <td>37.8</td>\n",
       "      <td>69.2</td>\n",
       "    </tr>\n",
       "    <tr>\n",
       "      <th>1</th>\n",
       "      <td>1.0</td>\n",
       "      <td>44.5</td>\n",
       "      <td>39.3</td>\n",
       "      <td>45.1</td>\n",
       "    </tr>\n",
       "    <tr>\n",
       "      <th>2</th>\n",
       "      <td>1.0</td>\n",
       "      <td>17.2</td>\n",
       "      <td>45.9</td>\n",
       "      <td>69.3</td>\n",
       "    </tr>\n",
       "    <tr>\n",
       "      <th>3</th>\n",
       "      <td>1.0</td>\n",
       "      <td>151.5</td>\n",
       "      <td>41.3</td>\n",
       "      <td>58.5</td>\n",
       "    </tr>\n",
       "    <tr>\n",
       "      <th>4</th>\n",
       "      <td>1.0</td>\n",
       "      <td>180.8</td>\n",
       "      <td>10.8</td>\n",
       "      <td>58.4</td>\n",
       "    </tr>\n",
       "    <tr>\n",
       "      <th>...</th>\n",
       "      <td>...</td>\n",
       "      <td>...</td>\n",
       "      <td>...</td>\n",
       "      <td>...</td>\n",
       "    </tr>\n",
       "    <tr>\n",
       "      <th>195</th>\n",
       "      <td>1.0</td>\n",
       "      <td>38.2</td>\n",
       "      <td>3.7</td>\n",
       "      <td>13.8</td>\n",
       "    </tr>\n",
       "    <tr>\n",
       "      <th>196</th>\n",
       "      <td>1.0</td>\n",
       "      <td>94.2</td>\n",
       "      <td>4.9</td>\n",
       "      <td>8.1</td>\n",
       "    </tr>\n",
       "    <tr>\n",
       "      <th>197</th>\n",
       "      <td>1.0</td>\n",
       "      <td>177.0</td>\n",
       "      <td>9.3</td>\n",
       "      <td>6.4</td>\n",
       "    </tr>\n",
       "    <tr>\n",
       "      <th>198</th>\n",
       "      <td>1.0</td>\n",
       "      <td>283.6</td>\n",
       "      <td>42.0</td>\n",
       "      <td>66.2</td>\n",
       "    </tr>\n",
       "    <tr>\n",
       "      <th>199</th>\n",
       "      <td>1.0</td>\n",
       "      <td>232.1</td>\n",
       "      <td>8.6</td>\n",
       "      <td>8.7</td>\n",
       "    </tr>\n",
       "  </tbody>\n",
       "</table>\n",
       "<p>200 rows × 4 columns</p>\n",
       "</div>"
      ],
      "text/plain": [
       "     const     TV  Radio  Newspaper\n",
       "0      1.0  230.1   37.8       69.2\n",
       "1      1.0   44.5   39.3       45.1\n",
       "2      1.0   17.2   45.9       69.3\n",
       "3      1.0  151.5   41.3       58.5\n",
       "4      1.0  180.8   10.8       58.4\n",
       "..     ...    ...    ...        ...\n",
       "195    1.0   38.2    3.7       13.8\n",
       "196    1.0   94.2    4.9        8.1\n",
       "197    1.0  177.0    9.3        6.4\n",
       "198    1.0  283.6   42.0       66.2\n",
       "199    1.0  232.1    8.6        8.7\n",
       "\n",
       "[200 rows x 4 columns]"
      ]
     },
     "execution_count": 260,
     "metadata": {},
     "output_type": "execute_result"
    }
   ],
   "source": [
    "X"
   ]
  },
  {
   "cell_type": "code",
   "execution_count": 261,
   "id": "3a65d101",
   "metadata": {},
   "outputs": [
    {
     "data": {
      "text/plain": [
       "0      22.1\n",
       "1      10.4\n",
       "2      12.0\n",
       "3      16.5\n",
       "4      17.9\n",
       "       ... \n",
       "195     7.6\n",
       "196    14.0\n",
       "197    14.8\n",
       "198    25.5\n",
       "199    18.4\n",
       "Name: Sales, Length: 200, dtype: float64"
      ]
     },
     "execution_count": 261,
     "metadata": {},
     "output_type": "execute_result"
    }
   ],
   "source": [
    "y"
   ]
  },
  {
   "cell_type": "code",
   "execution_count": 262,
   "id": "b5845cef",
   "metadata": {},
   "outputs": [],
   "source": [
    "model=sm.OLS(y,X).fit()"
   ]
  },
  {
   "cell_type": "code",
   "execution_count": 263,
   "id": "98fa5130",
   "metadata": {},
   "outputs": [
    {
     "data": {
      "text/plain": [
       "const        4.625124\n",
       "TV           0.054446\n",
       "Radio        0.107001\n",
       "Newspaper    0.000336\n",
       "dtype: float64"
      ]
     },
     "execution_count": 263,
     "metadata": {},
     "output_type": "execute_result"
    }
   ],
   "source": [
    "model.params"
   ]
  },
  {
   "cell_type": "code",
   "execution_count": 264,
   "id": "c3baaae9",
   "metadata": {},
   "outputs": [
    {
     "data": {
      "text/html": [
       "<table class=\"simpletable\">\n",
       "<caption>OLS Regression Results</caption>\n",
       "<tr>\n",
       "  <th>Dep. Variable:</th>          <td>Sales</td>      <th>  R-squared:         </th> <td>   0.903</td>\n",
       "</tr>\n",
       "<tr>\n",
       "  <th>Model:</th>                   <td>OLS</td>       <th>  Adj. R-squared:    </th> <td>   0.901</td>\n",
       "</tr>\n",
       "<tr>\n",
       "  <th>Method:</th>             <td>Least Squares</td>  <th>  F-statistic:       </th> <td>   605.4</td>\n",
       "</tr>\n",
       "<tr>\n",
       "  <th>Date:</th>             <td>Tue, 12 Sep 2023</td> <th>  Prob (F-statistic):</th> <td>8.13e-99</td>\n",
       "</tr>\n",
       "<tr>\n",
       "  <th>Time:</th>                 <td>15:29:18</td>     <th>  Log-Likelihood:    </th> <td> -383.34</td>\n",
       "</tr>\n",
       "<tr>\n",
       "  <th>No. Observations:</th>      <td>   200</td>      <th>  AIC:               </th> <td>   774.7</td>\n",
       "</tr>\n",
       "<tr>\n",
       "  <th>Df Residuals:</th>          <td>   196</td>      <th>  BIC:               </th> <td>   787.9</td>\n",
       "</tr>\n",
       "<tr>\n",
       "  <th>Df Model:</th>              <td>     3</td>      <th>                     </th>     <td> </td>   \n",
       "</tr>\n",
       "<tr>\n",
       "  <th>Covariance Type:</th>      <td>nonrobust</td>    <th>                     </th>     <td> </td>   \n",
       "</tr>\n",
       "</table>\n",
       "<table class=\"simpletable\">\n",
       "<tr>\n",
       "      <td></td>         <th>coef</th>     <th>std err</th>      <th>t</th>      <th>P>|t|</th>  <th>[0.025</th>    <th>0.975]</th>  \n",
       "</tr>\n",
       "<tr>\n",
       "  <th>const</th>     <td>    4.6251</td> <td>    0.308</td> <td>   15.041</td> <td> 0.000</td> <td>    4.019</td> <td>    5.232</td>\n",
       "</tr>\n",
       "<tr>\n",
       "  <th>TV</th>        <td>    0.0544</td> <td>    0.001</td> <td>   39.592</td> <td> 0.000</td> <td>    0.052</td> <td>    0.057</td>\n",
       "</tr>\n",
       "<tr>\n",
       "  <th>Radio</th>     <td>    0.1070</td> <td>    0.008</td> <td>   12.604</td> <td> 0.000</td> <td>    0.090</td> <td>    0.124</td>\n",
       "</tr>\n",
       "<tr>\n",
       "  <th>Newspaper</th> <td>    0.0003</td> <td>    0.006</td> <td>    0.058</td> <td> 0.954</td> <td>   -0.011</td> <td>    0.012</td>\n",
       "</tr>\n",
       "</table>\n",
       "<table class=\"simpletable\">\n",
       "<tr>\n",
       "  <th>Omnibus:</th>       <td>16.081</td> <th>  Durbin-Watson:     </th> <td>   2.251</td>\n",
       "</tr>\n",
       "<tr>\n",
       "  <th>Prob(Omnibus):</th> <td> 0.000</td> <th>  Jarque-Bera (JB):  </th> <td>  27.655</td>\n",
       "</tr>\n",
       "<tr>\n",
       "  <th>Skew:</th>          <td>-0.431</td> <th>  Prob(JB):          </th> <td>9.88e-07</td>\n",
       "</tr>\n",
       "<tr>\n",
       "  <th>Kurtosis:</th>      <td> 4.605</td> <th>  Cond. No.          </th> <td>    454.</td>\n",
       "</tr>\n",
       "</table><br/><br/>Notes:<br/>[1] Standard Errors assume that the covariance matrix of the errors is correctly specified."
      ],
      "text/plain": [
       "<class 'statsmodels.iolib.summary.Summary'>\n",
       "\"\"\"\n",
       "                            OLS Regression Results                            \n",
       "==============================================================================\n",
       "Dep. Variable:                  Sales   R-squared:                       0.903\n",
       "Model:                            OLS   Adj. R-squared:                  0.901\n",
       "Method:                 Least Squares   F-statistic:                     605.4\n",
       "Date:                Tue, 12 Sep 2023   Prob (F-statistic):           8.13e-99\n",
       "Time:                        15:29:18   Log-Likelihood:                -383.34\n",
       "No. Observations:                 200   AIC:                             774.7\n",
       "Df Residuals:                     196   BIC:                             787.9\n",
       "Df Model:                           3                                         \n",
       "Covariance Type:            nonrobust                                         \n",
       "==============================================================================\n",
       "                 coef    std err          t      P>|t|      [0.025      0.975]\n",
       "------------------------------------------------------------------------------\n",
       "const          4.6251      0.308     15.041      0.000       4.019       5.232\n",
       "TV             0.0544      0.001     39.592      0.000       0.052       0.057\n",
       "Radio          0.1070      0.008     12.604      0.000       0.090       0.124\n",
       "Newspaper      0.0003      0.006      0.058      0.954      -0.011       0.012\n",
       "==============================================================================\n",
       "Omnibus:                       16.081   Durbin-Watson:                   2.251\n",
       "Prob(Omnibus):                  0.000   Jarque-Bera (JB):               27.655\n",
       "Skew:                          -0.431   Prob(JB):                     9.88e-07\n",
       "Kurtosis:                       4.605   Cond. No.                         454.\n",
       "==============================================================================\n",
       "\n",
       "Notes:\n",
       "[1] Standard Errors assume that the covariance matrix of the errors is correctly specified.\n",
       "\"\"\""
      ]
     },
     "execution_count": 264,
     "metadata": {},
     "output_type": "execute_result"
    }
   ],
   "source": [
    "model.summary()"
   ]
  },
  {
   "cell_type": "code",
   "execution_count": 265,
   "id": "369d2286",
   "metadata": {},
   "outputs": [],
   "source": [
    "from sklearn.model_selection import train_test_split"
   ]
  },
  {
   "cell_type": "code",
   "execution_count": 266,
   "id": "439d031e",
   "metadata": {},
   "outputs": [],
   "source": [
    "X_train,X_test,y_train,y_test = train_test_split(X,y,random_state=101,train_size=0.3)"
   ]
  },
  {
   "cell_type": "code",
   "execution_count": 267,
   "id": "7415efdd",
   "metadata": {},
   "outputs": [],
   "source": [
    "model=sm.OLS(y_train,X_train).fit()"
   ]
  },
  {
   "cell_type": "code",
   "execution_count": 268,
   "id": "0b8ff24b",
   "metadata": {},
   "outputs": [
    {
     "data": {
      "text/plain": [
       "const        4.993768\n",
       "TV           0.053849\n",
       "Radio        0.108602\n",
       "Newspaper   -0.016394\n",
       "dtype: float64"
      ]
     },
     "execution_count": 268,
     "metadata": {},
     "output_type": "execute_result"
    }
   ],
   "source": [
    "model.params"
   ]
  },
  {
   "cell_type": "code",
   "execution_count": 269,
   "id": "fd2978bd",
   "metadata": {},
   "outputs": [
    {
     "data": {
      "text/plain": [
       "37     13.632032\n",
       "109    21.578042\n",
       "31     12.330197\n",
       "89     15.254925\n",
       "66      9.325557\n",
       "         ...    \n",
       "86     11.826704\n",
       "163    17.673327\n",
       "20     18.887243\n",
       "151    11.623378\n",
       "10      8.786350\n",
       "Length: 140, dtype: float64"
      ]
     },
     "execution_count": 269,
     "metadata": {},
     "output_type": "execute_result"
    }
   ],
   "source": [
    "pred_y=model.predict(X_test)\n",
    "pred_y"
   ]
  },
  {
   "cell_type": "markdown",
   "id": "f7641f5e",
   "metadata": {},
   "source": [
    "#### Model Evaluation"
   ]
  },
  {
   "cell_type": "code",
   "execution_count": 270,
   "id": "50bfcf08",
   "metadata": {},
   "outputs": [],
   "source": [
    "from sklearn.metrics import mean_absolute_error,mean_absolute_percentage_error,r2_score"
   ]
  },
  {
   "cell_type": "code",
   "execution_count": 271,
   "id": "5c9f6cfe",
   "metadata": {},
   "outputs": [
    {
     "data": {
      "text/plain": [
       "1.3250530170213104"
      ]
     },
     "execution_count": 271,
     "metadata": {},
     "output_type": "execute_result"
    }
   ],
   "source": [
    "MAE=mean_absolute_error(y_test,pred_y)\n",
    "MAE"
   ]
  },
  {
   "cell_type": "markdown",
   "id": "4cc36f69",
   "metadata": {},
   "source": [
    "\n",
    "- Mean_Absolute_Error it is common metric used to measure the accuracy of predictions made by a Multi_Linear_Regression model.\n",
    "- Here we get the GOOD MAE value."
   ]
  },
  {
   "cell_type": "code",
   "execution_count": 272,
   "id": "59ef0c86",
   "metadata": {},
   "outputs": [
    {
     "data": {
      "text/plain": [
       "0.12661456593959233"
      ]
     },
     "execution_count": 272,
     "metadata": {},
     "output_type": "execute_result"
    }
   ],
   "source": [
    "# mean_absolute_percentage_error - it measures percentage difference between predicted and actual values.\n",
    "MAPE=mean_absolute_percentage_error(y_test,pred_y)\n",
    "MAPE"
   ]
  },
  {
   "cell_type": "code",
   "execution_count": 273,
   "id": "518dbabd",
   "metadata": {},
   "outputs": [
    {
     "data": {
      "text/plain": [
       "89.00776213959472"
      ]
     },
     "execution_count": 273,
     "metadata": {},
     "output_type": "execute_result"
    }
   ],
   "source": [
    "# R-squared score- also known as the coefficient of determination, is a statistical metric used to evaluate the goodness \n",
    "# of fit of regression model.\n",
    "r2_score(y_test,pred_y)*100"
   ]
  },
  {
   "cell_type": "code",
   "execution_count": 274,
   "id": "e5bfb016",
   "metadata": {},
   "outputs": [],
   "source": [
    "new_data=[[149,22,12]]"
   ]
  },
  {
   "cell_type": "markdown",
   "id": "f4a5bc6e",
   "metadata": {},
   "source": [
    "### Polynomial Regression"
   ]
  },
  {
   "cell_type": "code",
   "execution_count": 275,
   "id": "c9469f75",
   "metadata": {},
   "outputs": [],
   "source": [
    "from sklearn.preprocessing import PolynomialFeatures"
   ]
  },
  {
   "cell_type": "code",
   "execution_count": 276,
   "id": "3b033a6b",
   "metadata": {},
   "outputs": [],
   "source": [
    "X=df.drop('Sales',axis=1)\n",
    "y=df['Sales']"
   ]
  },
  {
   "cell_type": "code",
   "execution_count": 277,
   "id": "e8c6a71e",
   "metadata": {},
   "outputs": [],
   "source": [
    "# x1,x2,x3\n",
    "#x^1.2, x1.x2,x2.x3\n",
    "#x2^2, x2.x3\n",
    "#x3^2\n",
    "#feature_engineering\n",
    "poly_instance=PolynomialFeatures(degree=2,include_bias=True)"
   ]
  },
  {
   "cell_type": "code",
   "execution_count": 278,
   "id": "b4d44183",
   "metadata": {},
   "outputs": [
    {
     "data": {
      "text/plain": [
       "PolynomialFeatures()"
      ]
     },
     "execution_count": 278,
     "metadata": {},
     "output_type": "execute_result"
    }
   ],
   "source": [
    "# fit and transform are two stages of the generating the new features of the dataset.\n",
    "# fit is the first stage where calculation are just made ready.\n",
    "\n",
    "poly_instance.fit(X)"
   ]
  },
  {
   "cell_type": "code",
   "execution_count": 279,
   "id": "257d3e89",
   "metadata": {},
   "outputs": [
    {
     "data": {
      "text/plain": [
       "array([[1.00000e+00, 2.30100e+02, 3.78000e+01, ..., 1.42884e+03,\n",
       "        2.61576e+03, 4.78864e+03],\n",
       "       [1.00000e+00, 4.45000e+01, 3.93000e+01, ..., 1.54449e+03,\n",
       "        1.77243e+03, 2.03401e+03],\n",
       "       [1.00000e+00, 1.72000e+01, 4.59000e+01, ..., 2.10681e+03,\n",
       "        3.18087e+03, 4.80249e+03],\n",
       "       ...,\n",
       "       [1.00000e+00, 1.77000e+02, 9.30000e+00, ..., 8.64900e+01,\n",
       "        5.95200e+01, 4.09600e+01],\n",
       "       [1.00000e+00, 2.83600e+02, 4.20000e+01, ..., 1.76400e+03,\n",
       "        2.78040e+03, 4.38244e+03],\n",
       "       [1.00000e+00, 2.32100e+02, 8.60000e+00, ..., 7.39600e+01,\n",
       "        7.48200e+01, 7.56900e+01]])"
      ]
     },
     "execution_count": 279,
     "metadata": {},
     "output_type": "execute_result"
    }
   ],
   "source": [
    "poly_features=poly_instance.transform(X)\n",
    "poly_features"
   ]
  },
  {
   "cell_type": "code",
   "execution_count": 280,
   "id": "742e53d8",
   "metadata": {},
   "outputs": [
    {
     "data": {
      "text/plain": [
       "(200, 3)"
      ]
     },
     "execution_count": 280,
     "metadata": {},
     "output_type": "execute_result"
    }
   ],
   "source": [
    "# poly features\n",
    "X.shape"
   ]
  },
  {
   "cell_type": "code",
   "execution_count": 281,
   "id": "0bc56191",
   "metadata": {},
   "outputs": [
    {
     "data": {
      "text/plain": [
       "(200, 10)"
      ]
     },
     "execution_count": 281,
     "metadata": {},
     "output_type": "execute_result"
    }
   ],
   "source": [
    "poly_features.shape"
   ]
  },
  {
   "cell_type": "code",
   "execution_count": 282,
   "id": "47f2e357",
   "metadata": {},
   "outputs": [],
   "source": [
    "X = poly_features"
   ]
  },
  {
   "cell_type": "code",
   "execution_count": 283,
   "id": "5ba95311",
   "metadata": {},
   "outputs": [
    {
     "data": {
      "text/plain": [
       "array([[1.00000e+00, 2.30100e+02, 3.78000e+01, ..., 1.42884e+03,\n",
       "        2.61576e+03, 4.78864e+03],\n",
       "       [1.00000e+00, 4.45000e+01, 3.93000e+01, ..., 1.54449e+03,\n",
       "        1.77243e+03, 2.03401e+03],\n",
       "       [1.00000e+00, 1.72000e+01, 4.59000e+01, ..., 2.10681e+03,\n",
       "        3.18087e+03, 4.80249e+03],\n",
       "       ...,\n",
       "       [1.00000e+00, 1.77000e+02, 9.30000e+00, ..., 8.64900e+01,\n",
       "        5.95200e+01, 4.09600e+01],\n",
       "       [1.00000e+00, 2.83600e+02, 4.20000e+01, ..., 1.76400e+03,\n",
       "        2.78040e+03, 4.38244e+03],\n",
       "       [1.00000e+00, 2.32100e+02, 8.60000e+00, ..., 7.39600e+01,\n",
       "        7.48200e+01, 7.56900e+01]])"
      ]
     },
     "execution_count": 283,
     "metadata": {},
     "output_type": "execute_result"
    }
   ],
   "source": [
    "X"
   ]
  },
  {
   "cell_type": "code",
   "execution_count": 284,
   "id": "04cd2671",
   "metadata": {},
   "outputs": [
    {
     "data": {
      "text/plain": [
       "0      22.1\n",
       "1      10.4\n",
       "2      12.0\n",
       "3      16.5\n",
       "4      17.9\n",
       "       ... \n",
       "195     7.6\n",
       "196    14.0\n",
       "197    14.8\n",
       "198    25.5\n",
       "199    18.4\n",
       "Name: Sales, Length: 200, dtype: float64"
      ]
     },
     "execution_count": 284,
     "metadata": {},
     "output_type": "execute_result"
    }
   ],
   "source": [
    "y"
   ]
  },
  {
   "cell_type": "code",
   "execution_count": 285,
   "id": "99295d20",
   "metadata": {},
   "outputs": [],
   "source": [
    "model=sm.OLS(y,X).fit()  # new X poly features"
   ]
  },
  {
   "cell_type": "code",
   "execution_count": 286,
   "id": "d4f25442",
   "metadata": {},
   "outputs": [
    {
     "data": {
      "text/plain": [
       "const    5.288596\n",
       "x1       0.076181\n",
       "x2      -0.037179\n",
       "x3      -0.009998\n",
       "x4      -0.000111\n",
       "x5       0.000424\n",
       "x6      -0.000009\n",
       "x7       0.001703\n",
       "x8       0.000140\n",
       "x9       0.000115\n",
       "dtype: float64"
      ]
     },
     "execution_count": 286,
     "metadata": {},
     "output_type": "execute_result"
    }
   ],
   "source": [
    "model.params"
   ]
  },
  {
   "cell_type": "code",
   "execution_count": 287,
   "id": "5ecddffd",
   "metadata": {},
   "outputs": [
    {
     "data": {
      "text/html": [
       "<table class=\"simpletable\">\n",
       "<caption>OLS Regression Results</caption>\n",
       "<tr>\n",
       "  <th>Dep. Variable:</th>          <td>Sales</td>      <th>  R-squared:         </th> <td>   0.936</td> \n",
       "</tr>\n",
       "<tr>\n",
       "  <th>Model:</th>                   <td>OLS</td>       <th>  Adj. R-squared:    </th> <td>   0.932</td> \n",
       "</tr>\n",
       "<tr>\n",
       "  <th>Method:</th>             <td>Least Squares</td>  <th>  F-statistic:       </th> <td>   306.2</td> \n",
       "</tr>\n",
       "<tr>\n",
       "  <th>Date:</th>             <td>Tue, 12 Sep 2023</td> <th>  Prob (F-statistic):</th> <td>4.97e-108</td>\n",
       "</tr>\n",
       "<tr>\n",
       "  <th>Time:</th>                 <td>15:29:39</td>     <th>  Log-Likelihood:    </th> <td> -342.10</td> \n",
       "</tr>\n",
       "<tr>\n",
       "  <th>No. Observations:</th>      <td>   200</td>      <th>  AIC:               </th> <td>   704.2</td> \n",
       "</tr>\n",
       "<tr>\n",
       "  <th>Df Residuals:</th>          <td>   190</td>      <th>  BIC:               </th> <td>   737.2</td> \n",
       "</tr>\n",
       "<tr>\n",
       "  <th>Df Model:</th>              <td>     9</td>      <th>                     </th>     <td> </td>    \n",
       "</tr>\n",
       "<tr>\n",
       "  <th>Covariance Type:</th>      <td>nonrobust</td>    <th>                     </th>     <td> </td>    \n",
       "</tr>\n",
       "</table>\n",
       "<table class=\"simpletable\">\n",
       "<tr>\n",
       "    <td></td>       <th>coef</th>     <th>std err</th>      <th>t</th>      <th>P>|t|</th>  <th>[0.025</th>    <th>0.975]</th>  \n",
       "</tr>\n",
       "<tr>\n",
       "  <th>const</th> <td>    5.2886</td> <td>    0.529</td> <td>    9.996</td> <td> 0.000</td> <td>    4.245</td> <td>    6.332</td>\n",
       "</tr>\n",
       "<tr>\n",
       "  <th>x1</th>    <td>    0.0762</td> <td>    0.005</td> <td>   15.320</td> <td> 0.000</td> <td>    0.066</td> <td>    0.086</td>\n",
       "</tr>\n",
       "<tr>\n",
       "  <th>x2</th>    <td>   -0.0372</td> <td>    0.028</td> <td>   -1.335</td> <td> 0.184</td> <td>   -0.092</td> <td>    0.018</td>\n",
       "</tr>\n",
       "<tr>\n",
       "  <th>x3</th>    <td>   -0.0100</td> <td>    0.018</td> <td>   -0.566</td> <td> 0.572</td> <td>   -0.045</td> <td>    0.025</td>\n",
       "</tr>\n",
       "<tr>\n",
       "  <th>x4</th>    <td>   -0.0001</td> <td> 1.54e-05</td> <td>   -7.180</td> <td> 0.000</td> <td>   -0.000</td> <td>-8.02e-05</td>\n",
       "</tr>\n",
       "<tr>\n",
       "  <th>x5</th>    <td>    0.0004</td> <td> 8.43e-05</td> <td>    5.032</td> <td> 0.000</td> <td>    0.000</td> <td>    0.001</td>\n",
       "</tr>\n",
       "<tr>\n",
       "  <th>x6</th>    <td>-9.139e-06</td> <td> 5.26e-05</td> <td>   -0.174</td> <td> 0.862</td> <td>   -0.000</td> <td> 9.47e-05</td>\n",
       "</tr>\n",
       "<tr>\n",
       "  <th>x7</th>    <td>    0.0017</td> <td>    0.001</td> <td>    3.148</td> <td> 0.002</td> <td>    0.001</td> <td>    0.003</td>\n",
       "</tr>\n",
       "<tr>\n",
       "  <th>x8</th>    <td>    0.0001</td> <td>    0.000</td> <td>    0.372</td> <td> 0.710</td> <td>   -0.001</td> <td>    0.001</td>\n",
       "</tr>\n",
       "<tr>\n",
       "  <th>x9</th>    <td>    0.0001</td> <td>    0.000</td> <td>    0.710</td> <td> 0.478</td> <td>   -0.000</td> <td>    0.000</td>\n",
       "</tr>\n",
       "</table>\n",
       "<table class=\"simpletable\">\n",
       "<tr>\n",
       "  <th>Omnibus:</th>       <td> 8.568</td> <th>  Durbin-Watson:     </th> <td>   2.239</td>\n",
       "</tr>\n",
       "<tr>\n",
       "  <th>Prob(Omnibus):</th> <td> 0.014</td> <th>  Jarque-Bera (JB):  </th> <td>  13.594</td>\n",
       "</tr>\n",
       "<tr>\n",
       "  <th>Skew:</th>          <td>-0.206</td> <th>  Prob(JB):          </th> <td> 0.00112</td>\n",
       "</tr>\n",
       "<tr>\n",
       "  <th>Kurtosis:</th>      <td> 4.209</td> <th>  Cond. No.          </th> <td>2.14e+05</td>\n",
       "</tr>\n",
       "</table><br/><br/>Notes:<br/>[1] Standard Errors assume that the covariance matrix of the errors is correctly specified.<br/>[2] The condition number is large, 2.14e+05. This might indicate that there are<br/>strong multicollinearity or other numerical problems."
      ],
      "text/plain": [
       "<class 'statsmodels.iolib.summary.Summary'>\n",
       "\"\"\"\n",
       "                            OLS Regression Results                            \n",
       "==============================================================================\n",
       "Dep. Variable:                  Sales   R-squared:                       0.936\n",
       "Model:                            OLS   Adj. R-squared:                  0.932\n",
       "Method:                 Least Squares   F-statistic:                     306.2\n",
       "Date:                Tue, 12 Sep 2023   Prob (F-statistic):          4.97e-108\n",
       "Time:                        15:29:39   Log-Likelihood:                -342.10\n",
       "No. Observations:                 200   AIC:                             704.2\n",
       "Df Residuals:                     190   BIC:                             737.2\n",
       "Df Model:                           9                                         \n",
       "Covariance Type:            nonrobust                                         \n",
       "==============================================================================\n",
       "                 coef    std err          t      P>|t|      [0.025      0.975]\n",
       "------------------------------------------------------------------------------\n",
       "const          5.2886      0.529      9.996      0.000       4.245       6.332\n",
       "x1             0.0762      0.005     15.320      0.000       0.066       0.086\n",
       "x2            -0.0372      0.028     -1.335      0.184      -0.092       0.018\n",
       "x3            -0.0100      0.018     -0.566      0.572      -0.045       0.025\n",
       "x4            -0.0001   1.54e-05     -7.180      0.000      -0.000   -8.02e-05\n",
       "x5             0.0004   8.43e-05      5.032      0.000       0.000       0.001\n",
       "x6         -9.139e-06   5.26e-05     -0.174      0.862      -0.000    9.47e-05\n",
       "x7             0.0017      0.001      3.148      0.002       0.001       0.003\n",
       "x8             0.0001      0.000      0.372      0.710      -0.001       0.001\n",
       "x9             0.0001      0.000      0.710      0.478      -0.000       0.000\n",
       "==============================================================================\n",
       "Omnibus:                        8.568   Durbin-Watson:                   2.239\n",
       "Prob(Omnibus):                  0.014   Jarque-Bera (JB):               13.594\n",
       "Skew:                          -0.206   Prob(JB):                      0.00112\n",
       "Kurtosis:                       4.209   Cond. No.                     2.14e+05\n",
       "==============================================================================\n",
       "\n",
       "Notes:\n",
       "[1] Standard Errors assume that the covariance matrix of the errors is correctly specified.\n",
       "[2] The condition number is large, 2.14e+05. This might indicate that there are\n",
       "strong multicollinearity or other numerical problems.\n",
       "\"\"\""
      ]
     },
     "execution_count": 287,
     "metadata": {},
     "output_type": "execute_result"
    }
   ],
   "source": [
    "model.summary()"
   ]
  },
  {
   "cell_type": "markdown",
   "id": "2c9bb608",
   "metadata": {},
   "source": [
    "### Using Train_Test_Split"
   ]
  },
  {
   "cell_type": "code",
   "execution_count": 288,
   "id": "a212ea26",
   "metadata": {},
   "outputs": [],
   "source": [
    "from sklearn.model_selection import train_test_split"
   ]
  },
  {
   "cell_type": "code",
   "execution_count": 289,
   "id": "c949a600",
   "metadata": {},
   "outputs": [],
   "source": [
    "X_train,X_test,y_train,y_test= train_test_split(X,y ,random_state=101,train_size=0.7)"
   ]
  },
  {
   "cell_type": "code",
   "execution_count": 290,
   "id": "0176343d",
   "metadata": {},
   "outputs": [],
   "source": [
    "model=sm.OLS(y_train,X_train).fit()"
   ]
  },
  {
   "cell_type": "code",
   "execution_count": 291,
   "id": "57449b07",
   "metadata": {},
   "outputs": [
    {
     "data": {
      "text/plain": [
       "const    5.090059\n",
       "x1       0.077494\n",
       "x2      -0.030130\n",
       "x3      -0.007938\n",
       "x4      -0.000111\n",
       "x5       0.000513\n",
       "x6      -0.000065\n",
       "x7       0.001225\n",
       "x8       0.000143\n",
       "x9       0.000168\n",
       "dtype: float64"
      ]
     },
     "execution_count": 291,
     "metadata": {},
     "output_type": "execute_result"
    }
   ],
   "source": [
    "model.params"
   ]
  },
  {
   "cell_type": "code",
   "execution_count": 292,
   "id": "ee6769c2",
   "metadata": {},
   "outputs": [
    {
     "data": {
      "text/html": [
       "<table class=\"simpletable\">\n",
       "<caption>OLS Regression Results</caption>\n",
       "<tr>\n",
       "  <th>Dep. Variable:</th>          <td>Sales</td>      <th>  R-squared:         </th> <td>   0.938</td>\n",
       "</tr>\n",
       "<tr>\n",
       "  <th>Model:</th>                   <td>OLS</td>       <th>  Adj. R-squared:    </th> <td>   0.933</td>\n",
       "</tr>\n",
       "<tr>\n",
       "  <th>Method:</th>             <td>Least Squares</td>  <th>  F-statistic:       </th> <td>   217.7</td>\n",
       "</tr>\n",
       "<tr>\n",
       "  <th>Date:</th>             <td>Tue, 12 Sep 2023</td> <th>  Prob (F-statistic):</th> <td>6.89e-74</td>\n",
       "</tr>\n",
       "<tr>\n",
       "  <th>Time:</th>                 <td>15:29:43</td>     <th>  Log-Likelihood:    </th> <td> -236.25</td>\n",
       "</tr>\n",
       "<tr>\n",
       "  <th>No. Observations:</th>      <td>   140</td>      <th>  AIC:               </th> <td>   492.5</td>\n",
       "</tr>\n",
       "<tr>\n",
       "  <th>Df Residuals:</th>          <td>   130</td>      <th>  BIC:               </th> <td>   521.9</td>\n",
       "</tr>\n",
       "<tr>\n",
       "  <th>Df Model:</th>              <td>     9</td>      <th>                     </th>     <td> </td>   \n",
       "</tr>\n",
       "<tr>\n",
       "  <th>Covariance Type:</th>      <td>nonrobust</td>    <th>                     </th>     <td> </td>   \n",
       "</tr>\n",
       "</table>\n",
       "<table class=\"simpletable\">\n",
       "<tr>\n",
       "    <td></td>       <th>coef</th>     <th>std err</th>      <th>t</th>      <th>P>|t|</th>  <th>[0.025</th>    <th>0.975]</th>  \n",
       "</tr>\n",
       "<tr>\n",
       "  <th>const</th> <td>    5.0901</td> <td>    0.618</td> <td>    8.241</td> <td> 0.000</td> <td>    3.868</td> <td>    6.312</td>\n",
       "</tr>\n",
       "<tr>\n",
       "  <th>x1</th>    <td>    0.0775</td> <td>    0.006</td> <td>   12.813</td> <td> 0.000</td> <td>    0.066</td> <td>    0.089</td>\n",
       "</tr>\n",
       "<tr>\n",
       "  <th>x2</th>    <td>   -0.0301</td> <td>    0.033</td> <td>   -0.906</td> <td> 0.366</td> <td>   -0.096</td> <td>    0.036</td>\n",
       "</tr>\n",
       "<tr>\n",
       "  <th>x3</th>    <td>   -0.0079</td> <td>    0.022</td> <td>   -0.358</td> <td> 0.721</td> <td>   -0.052</td> <td>    0.036</td>\n",
       "</tr>\n",
       "<tr>\n",
       "  <th>x4</th>    <td>   -0.0001</td> <td>  1.9e-05</td> <td>   -5.862</td> <td> 0.000</td> <td>   -0.000</td> <td>-7.37e-05</td>\n",
       "</tr>\n",
       "<tr>\n",
       "  <th>x5</th>    <td>    0.0005</td> <td>    0.000</td> <td>    5.028</td> <td> 0.000</td> <td>    0.000</td> <td>    0.001</td>\n",
       "</tr>\n",
       "<tr>\n",
       "  <th>x6</th>    <td>-6.476e-05</td> <td> 6.91e-05</td> <td>   -0.938</td> <td> 0.350</td> <td>   -0.000</td> <td> 7.19e-05</td>\n",
       "</tr>\n",
       "<tr>\n",
       "  <th>x7</th>    <td>    0.0012</td> <td>    0.001</td> <td>    1.899</td> <td> 0.060</td> <td>-5.13e-05</td> <td>    0.003</td>\n",
       "</tr>\n",
       "<tr>\n",
       "  <th>x8</th>    <td>    0.0001</td> <td>    0.000</td> <td>    0.330</td> <td> 0.742</td> <td>   -0.001</td> <td>    0.001</td>\n",
       "</tr>\n",
       "<tr>\n",
       "  <th>x9</th>    <td>    0.0002</td> <td>    0.000</td> <td>    0.744</td> <td> 0.458</td> <td>   -0.000</td> <td>    0.001</td>\n",
       "</tr>\n",
       "</table>\n",
       "<table class=\"simpletable\">\n",
       "<tr>\n",
       "  <th>Omnibus:</th>       <td> 4.071</td> <th>  Durbin-Watson:     </th> <td>   2.070</td>\n",
       "</tr>\n",
       "<tr>\n",
       "  <th>Prob(Omnibus):</th> <td> 0.131</td> <th>  Jarque-Bera (JB):  </th> <td>   4.730</td>\n",
       "</tr>\n",
       "<tr>\n",
       "  <th>Skew:</th>          <td>-0.126</td> <th>  Prob(JB):          </th> <td>  0.0939</td>\n",
       "</tr>\n",
       "<tr>\n",
       "  <th>Kurtosis:</th>      <td> 3.865</td> <th>  Cond. No.          </th> <td>2.16e+05</td>\n",
       "</tr>\n",
       "</table><br/><br/>Notes:<br/>[1] Standard Errors assume that the covariance matrix of the errors is correctly specified.<br/>[2] The condition number is large, 2.16e+05. This might indicate that there are<br/>strong multicollinearity or other numerical problems."
      ],
      "text/plain": [
       "<class 'statsmodels.iolib.summary.Summary'>\n",
       "\"\"\"\n",
       "                            OLS Regression Results                            \n",
       "==============================================================================\n",
       "Dep. Variable:                  Sales   R-squared:                       0.938\n",
       "Model:                            OLS   Adj. R-squared:                  0.933\n",
       "Method:                 Least Squares   F-statistic:                     217.7\n",
       "Date:                Tue, 12 Sep 2023   Prob (F-statistic):           6.89e-74\n",
       "Time:                        15:29:43   Log-Likelihood:                -236.25\n",
       "No. Observations:                 140   AIC:                             492.5\n",
       "Df Residuals:                     130   BIC:                             521.9\n",
       "Df Model:                           9                                         \n",
       "Covariance Type:            nonrobust                                         \n",
       "==============================================================================\n",
       "                 coef    std err          t      P>|t|      [0.025      0.975]\n",
       "------------------------------------------------------------------------------\n",
       "const          5.0901      0.618      8.241      0.000       3.868       6.312\n",
       "x1             0.0775      0.006     12.813      0.000       0.066       0.089\n",
       "x2            -0.0301      0.033     -0.906      0.366      -0.096       0.036\n",
       "x3            -0.0079      0.022     -0.358      0.721      -0.052       0.036\n",
       "x4            -0.0001    1.9e-05     -5.862      0.000      -0.000   -7.37e-05\n",
       "x5             0.0005      0.000      5.028      0.000       0.000       0.001\n",
       "x6         -6.476e-05   6.91e-05     -0.938      0.350      -0.000    7.19e-05\n",
       "x7             0.0012      0.001      1.899      0.060   -5.13e-05       0.003\n",
       "x8             0.0001      0.000      0.330      0.742      -0.001       0.001\n",
       "x9             0.0002      0.000      0.744      0.458      -0.000       0.001\n",
       "==============================================================================\n",
       "Omnibus:                        4.071   Durbin-Watson:                   2.070\n",
       "Prob(Omnibus):                  0.131   Jarque-Bera (JB):                4.730\n",
       "Skew:                          -0.126   Prob(JB):                       0.0939\n",
       "Kurtosis:                       3.865   Cond. No.                     2.16e+05\n",
       "==============================================================================\n",
       "\n",
       "Notes:\n",
       "[1] Standard Errors assume that the covariance matrix of the errors is correctly specified.\n",
       "[2] The condition number is large, 2.16e+05. This might indicate that there are\n",
       "strong multicollinearity or other numerical problems.\n",
       "\"\"\""
      ]
     },
     "execution_count": 292,
     "metadata": {},
     "output_type": "execute_result"
    }
   ],
   "source": [
    "model.summary()"
   ]
  },
  {
   "cell_type": "code",
   "execution_count": 293,
   "id": "7682e516",
   "metadata": {},
   "outputs": [],
   "source": [
    "pred_y=model.predict(X_test)"
   ]
  },
  {
   "cell_type": "code",
   "execution_count": 294,
   "id": "85c93525",
   "metadata": {},
   "outputs": [
    {
     "data": {
      "text/plain": [
       "array([13.7417868 , 21.11465035, 13.03287882, 16.32971764,  7.80477439,\n",
       "        6.47196239, 21.5082459 , 19.0421605 , 13.71941246, 20.45076614,\n",
       "        9.40347263, 16.44490091, 16.86426357, 22.42107345, 19.7060873 ,\n",
       "        8.88541282, 17.74252886, 11.42240955,  8.68116931, 21.6053278 ,\n",
       "        6.59854981, 19.05685766, 25.920224  , 23.8876459 , 10.05235666,\n",
       "       15.86265471, 22.48590423,  9.37299133, 15.2912304 ,  8.62901146,\n",
       "        8.18847701, 20.44692196, 13.57650614,  6.12241983, 18.39803797,\n",
       "       11.33457734, 11.14885676, 11.42424382,  6.94872289, 14.50078817,\n",
       "       13.02079273, 13.5034604 , 11.85348782,  6.76226008, 11.35735187,\n",
       "       10.42705847,  5.75971838, 18.02533557, 15.79937077, 21.85535098,\n",
       "       10.03082366, 16.67128788, 18.89080328, 13.28163879, 15.96958067,\n",
       "        5.21382857, 24.78055401,  9.61979517, 20.42833847, 16.87128738])"
      ]
     },
     "execution_count": 294,
     "metadata": {},
     "output_type": "execute_result"
    }
   ],
   "source": [
    "pred_y"
   ]
  },
  {
   "cell_type": "code",
   "execution_count": 295,
   "id": "457c99ba",
   "metadata": {},
   "outputs": [],
   "source": [
    "from sklearn.metrics import mean_absolute_error,mean_absolute_percentage_error,r2_score"
   ]
  },
  {
   "cell_type": "code",
   "execution_count": 296,
   "id": "e5361c3e",
   "metadata": {},
   "outputs": [
    {
     "data": {
      "text/plain": [
       "1.1548027507564398"
      ]
     },
     "execution_count": 296,
     "metadata": {},
     "output_type": "execute_result"
    }
   ],
   "source": [
    "# mean_absolute_error\n",
    "MAE=mean_absolute_error(y_test,pred_y)\n",
    "MAE"
   ]
  },
  {
   "cell_type": "code",
   "execution_count": 297,
   "id": "690c68d5",
   "metadata": {},
   "outputs": [
    {
     "data": {
      "text/plain": [
       "0.09395644736777119"
      ]
     },
     "execution_count": 297,
     "metadata": {},
     "output_type": "execute_result"
    }
   ],
   "source": [
    "# mean_absolute_percentage_error\n",
    "MAPE=mean_absolute_percentage_error(y_test,pred_y)\n",
    "MAPE"
   ]
  },
  {
   "cell_type": "code",
   "execution_count": 298,
   "id": "ff868244",
   "metadata": {},
   "outputs": [
    {
     "data": {
      "text/plain": [
       "0.9237023998708825"
      ]
     },
     "execution_count": 298,
     "metadata": {},
     "output_type": "execute_result"
    }
   ],
   "source": [
    "r2_score(y_test,pred_y)"
   ]
  },
  {
   "cell_type": "markdown",
   "id": "0d8e626c",
   "metadata": {},
   "source": [
    "- The R2 score, also known as the coefficient of determinatio,is a stastical measure used to assess the goodness of fit\n",
    "of a regression model.\n",
    "- The R2 score ranges from 0 to 1, here we get the 0.9237 this indicate that a better fit."
   ]
  },
  {
   "cell_type": "markdown",
   "id": "16f0e610",
   "metadata": {},
   "source": [
    "### Choosing the best Degree of Polynomial"
   ]
  },
  {
   "cell_type": "code",
   "execution_count": 299,
   "id": "68da2e35",
   "metadata": {},
   "outputs": [],
   "source": [
    "data=pd.read_csv(r'advertising.csv')\n",
    "df=pd.DataFrame(data = data)\n",
    "\n",
    "X=df.drop('Sales',axis=1)\n",
    "Y=df['Sales']"
   ]
  },
  {
   "cell_type": "code",
   "execution_count": 300,
   "id": "df2f84a6",
   "metadata": {},
   "outputs": [],
   "source": [
    "train_mape_lst=[]\n",
    "test_mape_lst=[]\n",
    "\n",
    "for i in range(1,10):\n",
    "    \n",
    "    poly_instance = PolynomialFeatures(degree=i,include_bias= False)\n",
    "    \n",
    "    poly_features = poly_instance.fit_transform(X)\n",
    "    \n",
    "    X_train,X_test,Y_train,Y_test = train_test_split(poly_features,Y,train_size=0.7,random_state=101)\n",
    "    \n",
    "    model=sm.OLS(Y_train,X_train).fit()\n",
    "    \n",
    "    train_pred = model.predict(X_train)\n",
    "    test_pred = model.predict(X_test)\n",
    "    \n",
    "    train_mape= mean_absolute_percentage_error(Y_train,train_pred)\n",
    "    test_mape= mean_absolute_percentage_error(Y_test,test_pred)\n",
    "    \n",
    "    train_mape_lst.append(train_mape)\n",
    "    test_mape_lst.append(test_mape)"
   ]
  },
  {
   "cell_type": "code",
   "execution_count": 301,
   "id": "1f39f7d1",
   "metadata": {},
   "outputs": [
    {
     "data": {
      "text/plain": [
       "[0.17350988860108016,\n",
       " 0.11297206722352933,\n",
       " 0.09106899375609545,\n",
       " 0.0675062457149638,\n",
       " 0.052013512946380326,\n",
       " 0.036896789581630486,\n",
       " 0.04097132502534538,\n",
       " 0.057326885543921846,\n",
       " 0.04840093952242264]"
      ]
     },
     "execution_count": 301,
     "metadata": {},
     "output_type": "execute_result"
    }
   ],
   "source": [
    "train_mape_lst"
   ]
  },
  {
   "cell_type": "code",
   "execution_count": 302,
   "id": "5e8a3ecf",
   "metadata": {},
   "outputs": [
    {
     "data": {
      "text/plain": [
       "[0.15171440486197982,\n",
       " 0.1118409617210067,\n",
       " 0.09245734919319301,\n",
       " 0.08128102172391305,\n",
       " 0.13687183441990078,\n",
       " 0.22058101687059253,\n",
       " 12.37166914444109,\n",
       " 163.21789284235447,\n",
       " 3922.366342408642]"
      ]
     },
     "execution_count": 302,
     "metadata": {},
     "output_type": "execute_result"
    }
   ],
   "source": [
    "test_mape_lst"
   ]
  },
  {
   "cell_type": "code",
   "execution_count": 303,
   "id": "c6ac0535",
   "metadata": {},
   "outputs": [
    {
     "data": {
      "text/html": [
       "<div>\n",
       "<style scoped>\n",
       "    .dataframe tbody tr th:only-of-type {\n",
       "        vertical-align: middle;\n",
       "    }\n",
       "\n",
       "    .dataframe tbody tr th {\n",
       "        vertical-align: top;\n",
       "    }\n",
       "\n",
       "    .dataframe thead th {\n",
       "        text-align: right;\n",
       "    }\n",
       "</style>\n",
       "<table border=\"1\" class=\"dataframe\">\n",
       "  <thead>\n",
       "    <tr style=\"text-align: right;\">\n",
       "      <th></th>\n",
       "      <th>Train_mape</th>\n",
       "      <th>Test_mape</th>\n",
       "    </tr>\n",
       "  </thead>\n",
       "  <tbody>\n",
       "    <tr>\n",
       "      <th>0</th>\n",
       "      <td>0.173510</td>\n",
       "      <td>0.151714</td>\n",
       "    </tr>\n",
       "    <tr>\n",
       "      <th>1</th>\n",
       "      <td>0.112972</td>\n",
       "      <td>0.111841</td>\n",
       "    </tr>\n",
       "    <tr>\n",
       "      <th>2</th>\n",
       "      <td>0.091069</td>\n",
       "      <td>0.092457</td>\n",
       "    </tr>\n",
       "    <tr>\n",
       "      <th>3</th>\n",
       "      <td>0.067506</td>\n",
       "      <td>0.081281</td>\n",
       "    </tr>\n",
       "    <tr>\n",
       "      <th>4</th>\n",
       "      <td>0.052014</td>\n",
       "      <td>0.136872</td>\n",
       "    </tr>\n",
       "    <tr>\n",
       "      <th>5</th>\n",
       "      <td>0.036897</td>\n",
       "      <td>0.220581</td>\n",
       "    </tr>\n",
       "    <tr>\n",
       "      <th>6</th>\n",
       "      <td>0.040971</td>\n",
       "      <td>12.371669</td>\n",
       "    </tr>\n",
       "    <tr>\n",
       "      <th>7</th>\n",
       "      <td>0.057327</td>\n",
       "      <td>163.217893</td>\n",
       "    </tr>\n",
       "    <tr>\n",
       "      <th>8</th>\n",
       "      <td>0.048401</td>\n",
       "      <td>3922.366342</td>\n",
       "    </tr>\n",
       "  </tbody>\n",
       "</table>\n",
       "</div>"
      ],
      "text/plain": [
       "   Train_mape    Test_mape\n",
       "0    0.173510     0.151714\n",
       "1    0.112972     0.111841\n",
       "2    0.091069     0.092457\n",
       "3    0.067506     0.081281\n",
       "4    0.052014     0.136872\n",
       "5    0.036897     0.220581\n",
       "6    0.040971    12.371669\n",
       "7    0.057327   163.217893\n",
       "8    0.048401  3922.366342"
      ]
     },
     "execution_count": 303,
     "metadata": {},
     "output_type": "execute_result"
    }
   ],
   "source": [
    "pd.DataFrame({'Train_mape':train_mape_lst,'Test_mape':test_mape_lst})"
   ]
  },
  {
   "cell_type": "code",
   "execution_count": 304,
   "id": "d2b07b8a",
   "metadata": {},
   "outputs": [
    {
     "data": {
      "image/png": "[encoded data removed]",
      "text/plain": [
       "<Figure size 640x480 with 1 Axes>"
      ]
     },
     "metadata": {},
     "output_type": "display_data"
    }
   ],
   "source": [
    "plt.plot(range(1,7),train_mape_lst[:6],label='Train MAPE')\n",
    "plt.plot(range(1,7),test_mape_lst[:6],label='Test MAPE')\n",
    "plt.xlabel('Degree of Polynomial')\n",
    "plt.ylabel('MAPE')\n",
    "plt.legend()\n",
    "plt.show()"
   ]
  },
  {
   "cell_type": "markdown",
   "id": "d9a151c2",
   "metadata": {},
   "source": [
    "## Final Model"
   ]
  },
  {
   "cell_type": "code",
   "execution_count": 305,
   "id": "a4f67f54",
   "metadata": {},
   "outputs": [
    {
     "data": {
      "text/html": [
       "<div>\n",
       "<style scoped>\n",
       "    .dataframe tbody tr th:only-of-type {\n",
       "        vertical-align: middle;\n",
       "    }\n",
       "\n",
       "    .dataframe tbody tr th {\n",
       "        vertical-align: top;\n",
       "    }\n",
       "\n",
       "    .dataframe thead th {\n",
       "        text-align: right;\n",
       "    }\n",
       "</style>\n",
       "<table border=\"1\" class=\"dataframe\">\n",
       "  <thead>\n",
       "    <tr style=\"text-align: right;\">\n",
       "      <th></th>\n",
       "      <th>TV</th>\n",
       "      <th>Radio</th>\n",
       "      <th>Newspaper</th>\n",
       "      <th>Sales</th>\n",
       "    </tr>\n",
       "  </thead>\n",
       "  <tbody>\n",
       "    <tr>\n",
       "      <th>0</th>\n",
       "      <td>230.1</td>\n",
       "      <td>37.8</td>\n",
       "      <td>69.2</td>\n",
       "      <td>22.1</td>\n",
       "    </tr>\n",
       "    <tr>\n",
       "      <th>1</th>\n",
       "      <td>44.5</td>\n",
       "      <td>39.3</td>\n",
       "      <td>45.1</td>\n",
       "      <td>10.4</td>\n",
       "    </tr>\n",
       "    <tr>\n",
       "      <th>2</th>\n",
       "      <td>17.2</td>\n",
       "      <td>45.9</td>\n",
       "      <td>69.3</td>\n",
       "      <td>12.0</td>\n",
       "    </tr>\n",
       "    <tr>\n",
       "      <th>3</th>\n",
       "      <td>151.5</td>\n",
       "      <td>41.3</td>\n",
       "      <td>58.5</td>\n",
       "      <td>16.5</td>\n",
       "    </tr>\n",
       "    <tr>\n",
       "      <th>4</th>\n",
       "      <td>180.8</td>\n",
       "      <td>10.8</td>\n",
       "      <td>58.4</td>\n",
       "      <td>17.9</td>\n",
       "    </tr>\n",
       "  </tbody>\n",
       "</table>\n",
       "</div>"
      ],
      "text/plain": [
       "      TV  Radio  Newspaper  Sales\n",
       "0  230.1   37.8       69.2   22.1\n",
       "1   44.5   39.3       45.1   10.4\n",
       "2   17.2   45.9       69.3   12.0\n",
       "3  151.5   41.3       58.5   16.5\n",
       "4  180.8   10.8       58.4   17.9"
      ]
     },
     "execution_count": 305,
     "metadata": {},
     "output_type": "execute_result"
    }
   ],
   "source": [
    "data=pd.read_csv(r'advertising.csv')\n",
    "df = pd.DataFrame(data = data)\n",
    "X = df.drop('Sales',axis=1)\n",
    "Y = df['Sales']\n",
    "\n",
    "df.head()"
   ]
  },
  {
   "cell_type": "code",
   "execution_count": 306,
   "id": "262c8acd",
   "metadata": {},
   "outputs": [
    {
     "data": {
      "text/plain": [
       "(200, 19)"
      ]
     },
     "execution_count": 306,
     "metadata": {},
     "output_type": "execute_result"
    }
   ],
   "source": [
    "final_poly_instance = PolynomialFeatures(degree=3,include_bias=False)\n",
    "final_poly_features= final_poly_instance.fit_transform(X)\n",
    "final_poly_features.shape"
   ]
  },
  {
   "cell_type": "code",
   "execution_count": 307,
   "id": "d3f99b38",
   "metadata": {},
   "outputs": [],
   "source": [
    "final_model=sm.OLS(Y,final_poly_features).fit()"
   ]
  },
  {
   "cell_type": "code",
   "execution_count": 308,
   "id": "215b7d55",
   "metadata": {},
   "outputs": [],
   "source": [
    "## Prediction with final model\n",
    "new_data=[[180.8,10.8,58.4]]"
   ]
  },
  {
   "cell_type": "code",
   "execution_count": 309,
   "id": "18294ac9",
   "metadata": {},
   "outputs": [],
   "source": [
    "# convert the new data into new polynomial features\n",
    "test_poly_features=final_poly_instance.fit_transform(new_data)"
   ]
  },
  {
   "cell_type": "code",
   "execution_count": 310,
   "id": "397cbcab",
   "metadata": {},
   "outputs": [],
   "source": [
    "result=final_model.predict(test_poly_features)"
   ]
  },
  {
   "cell_type": "code",
   "execution_count": 311,
   "id": "842a3d88",
   "metadata": {},
   "outputs": [
    {
     "data": {
      "text/plain": [
       "array([16.32402853])"
      ]
     },
     "execution_count": 311,
     "metadata": {},
     "output_type": "execute_result"
    }
   ],
   "source": [
    "result"
   ]
  },
  {
   "cell_type": "code",
   "execution_count": 312,
   "id": "ba121c3f",
   "metadata": {},
   "outputs": [
    {
     "data": {
      "text/html": [
       "<table class=\"simpletable\">\n",
       "<caption>OLS Regression Results</caption>\n",
       "<tr>\n",
       "  <th>Dep. Variable:</th>          <td>Sales</td>      <th>  R-squared (uncentered):</th>      <td>   0.993</td> \n",
       "</tr>\n",
       "<tr>\n",
       "  <th>Model:</th>                   <td>OLS</td>       <th>  Adj. R-squared (uncentered):</th> <td>   0.992</td> \n",
       "</tr>\n",
       "<tr>\n",
       "  <th>Method:</th>             <td>Least Squares</td>  <th>  F-statistic:       </th>          <td>   1328.</td> \n",
       "</tr>\n",
       "<tr>\n",
       "  <th>Date:</th>             <td>Tue, 12 Sep 2023</td> <th>  Prob (F-statistic):</th>          <td>2.35e-183</td>\n",
       "</tr>\n",
       "<tr>\n",
       "  <th>Time:</th>                 <td>15:29:59</td>     <th>  Log-Likelihood:    </th>          <td> -344.11</td> \n",
       "</tr>\n",
       "<tr>\n",
       "  <th>No. Observations:</th>      <td>   200</td>      <th>  AIC:               </th>          <td>   726.2</td> \n",
       "</tr>\n",
       "<tr>\n",
       "  <th>Df Residuals:</th>          <td>   181</td>      <th>  BIC:               </th>          <td>   788.9</td> \n",
       "</tr>\n",
       "<tr>\n",
       "  <th>Df Model:</th>              <td>    19</td>      <th>                     </th>              <td> </td>    \n",
       "</tr>\n",
       "<tr>\n",
       "  <th>Covariance Type:</th>      <td>nonrobust</td>    <th>                     </th>              <td> </td>    \n",
       "</tr>\n",
       "</table>\n",
       "<table class=\"simpletable\">\n",
       "<tr>\n",
       "   <td></td>      <th>coef</th>     <th>std err</th>      <th>t</th>      <th>P>|t|</th>  <th>[0.025</th>    <th>0.975]</th>  \n",
       "</tr>\n",
       "<tr>\n",
       "  <th>x1</th>  <td>    0.1349</td> <td>    0.011</td> <td>   11.770</td> <td> 0.000</td> <td>    0.112</td> <td>    0.157</td>\n",
       "</tr>\n",
       "<tr>\n",
       "  <th>x2</th>  <td>    0.3504</td> <td>    0.068</td> <td>    5.129</td> <td> 0.000</td> <td>    0.216</td> <td>    0.485</td>\n",
       "</tr>\n",
       "<tr>\n",
       "  <th>x3</th>  <td>    0.0702</td> <td>    0.037</td> <td>    1.883</td> <td> 0.061</td> <td>   -0.003</td> <td>    0.144</td>\n",
       "</tr>\n",
       "<tr>\n",
       "  <th>x4</th>  <td>   -0.0003</td> <td> 9.18e-05</td> <td>   -3.677</td> <td> 0.000</td> <td>   -0.001</td> <td>   -0.000</td>\n",
       "</tr>\n",
       "<tr>\n",
       "  <th>x5</th>  <td>   -0.0010</td> <td>    0.000</td> <td>   -2.386</td> <td> 0.018</td> <td>   -0.002</td> <td>   -0.000</td>\n",
       "</tr>\n",
       "<tr>\n",
       "  <th>x6</th>  <td>   -0.0007</td> <td>    0.000</td> <td>   -2.633</td> <td> 0.009</td> <td>   -0.001</td> <td>   -0.000</td>\n",
       "</tr>\n",
       "<tr>\n",
       "  <th>x7</th>  <td>   -0.0105</td> <td>    0.003</td> <td>   -3.244</td> <td> 0.001</td> <td>   -0.017</td> <td>   -0.004</td>\n",
       "</tr>\n",
       "<tr>\n",
       "  <th>x8</th>  <td>   -0.0020</td> <td>    0.002</td> <td>   -1.013</td> <td> 0.312</td> <td>   -0.006</td> <td>    0.002</td>\n",
       "</tr>\n",
       "<tr>\n",
       "  <th>x9</th>  <td>    0.0003</td> <td>    0.001</td> <td>    0.298</td> <td> 0.766</td> <td>   -0.002</td> <td>    0.002</td>\n",
       "</tr>\n",
       "<tr>\n",
       "  <th>x10</th> <td> 2.885e-07</td> <td> 2.09e-07</td> <td>    1.382</td> <td> 0.169</td> <td>-1.23e-07</td> <td>    7e-07</td>\n",
       "</tr>\n",
       "<tr>\n",
       "  <th>x11</th> <td> 1.634e-06</td> <td> 1.23e-06</td> <td>    1.327</td> <td> 0.186</td> <td>-7.96e-07</td> <td> 4.06e-06</td>\n",
       "</tr>\n",
       "<tr>\n",
       "  <th>x12</th> <td> 1.519e-06</td> <td> 8.35e-07</td> <td>    1.819</td> <td> 0.071</td> <td>-1.29e-07</td> <td> 3.17e-06</td>\n",
       "</tr>\n",
       "<tr>\n",
       "  <th>x13</th> <td> 1.425e-05</td> <td> 7.01e-06</td> <td>    2.031</td> <td> 0.044</td> <td> 4.09e-07</td> <td> 2.81e-05</td>\n",
       "</tr>\n",
       "<tr>\n",
       "  <th>x14</th> <td> 7.262e-06</td> <td> 5.36e-06</td> <td>    1.355</td> <td> 0.177</td> <td>-3.32e-06</td> <td> 1.78e-05</td>\n",
       "</tr>\n",
       "<tr>\n",
       "  <th>x15</th> <td>-1.044e-07</td> <td> 2.12e-06</td> <td>   -0.049</td> <td> 0.961</td> <td>-4.28e-06</td> <td> 4.08e-06</td>\n",
       "</tr>\n",
       "<tr>\n",
       "  <th>x16</th> <td>    0.0001</td> <td>  4.7e-05</td> <td>    2.800</td> <td> 0.006</td> <td> 3.89e-05</td> <td>    0.000</td>\n",
       "</tr>\n",
       "<tr>\n",
       "  <th>x17</th> <td> 9.021e-06</td> <td> 2.98e-05</td> <td>    0.303</td> <td> 0.762</td> <td>-4.97e-05</td> <td> 6.78e-05</td>\n",
       "</tr>\n",
       "<tr>\n",
       "  <th>x18</th> <td>-9.246e-07</td> <td> 1.64e-05</td> <td>   -0.056</td> <td> 0.955</td> <td>-3.32e-05</td> <td> 3.14e-05</td>\n",
       "</tr>\n",
       "<tr>\n",
       "  <th>x19</th> <td>-9.334e-07</td> <td> 5.74e-06</td> <td>   -0.163</td> <td> 0.871</td> <td>-1.23e-05</td> <td> 1.04e-05</td>\n",
       "</tr>\n",
       "</table>\n",
       "<table class=\"simpletable\">\n",
       "<tr>\n",
       "  <th>Omnibus:</th>       <td> 3.868</td> <th>  Durbin-Watson:     </th> <td>   2.181</td>\n",
       "</tr>\n",
       "<tr>\n",
       "  <th>Prob(Omnibus):</th> <td> 0.145</td> <th>  Jarque-Bera (JB):  </th> <td>   4.299</td>\n",
       "</tr>\n",
       "<tr>\n",
       "  <th>Skew:</th>          <td>-0.130</td> <th>  Prob(JB):          </th> <td>   0.117</td>\n",
       "</tr>\n",
       "<tr>\n",
       "  <th>Kurtosis:</th>      <td> 3.669</td> <th>  Cond. No.          </th> <td>6.65e+06</td>\n",
       "</tr>\n",
       "</table><br/><br/>Notes:<br/>[1] R² is computed without centering (uncentered) since the model does not contain a constant.<br/>[2] Standard Errors assume that the covariance matrix of the errors is correctly specified.<br/>[3] The condition number is large, 6.65e+06. This might indicate that there are<br/>strong multicollinearity or other numerical problems."
      ],
      "text/plain": [
       "<class 'statsmodels.iolib.summary.Summary'>\n",
       "\"\"\"\n",
       "                                 OLS Regression Results                                \n",
       "=======================================================================================\n",
       "Dep. Variable:                  Sales   R-squared (uncentered):                   0.993\n",
       "Model:                            OLS   Adj. R-squared (uncentered):              0.992\n",
       "Method:                 Least Squares   F-statistic:                              1328.\n",
       "Date:                Tue, 12 Sep 2023   Prob (F-statistic):                   2.35e-183\n",
       "Time:                        15:29:59   Log-Likelihood:                         -344.11\n",
       "No. Observations:                 200   AIC:                                      726.2\n",
       "Df Residuals:                     181   BIC:                                      788.9\n",
       "Df Model:                          19                                                  \n",
       "Covariance Type:            nonrobust                                                  \n",
       "==============================================================================\n",
       "                 coef    std err          t      P>|t|      [0.025      0.975]\n",
       "------------------------------------------------------------------------------\n",
       "x1             0.1349      0.011     11.770      0.000       0.112       0.157\n",
       "x2             0.3504      0.068      5.129      0.000       0.216       0.485\n",
       "x3             0.0702      0.037      1.883      0.061      -0.003       0.144\n",
       "x4            -0.0003   9.18e-05     -3.677      0.000      -0.001      -0.000\n",
       "x5            -0.0010      0.000     -2.386      0.018      -0.002      -0.000\n",
       "x6            -0.0007      0.000     -2.633      0.009      -0.001      -0.000\n",
       "x7            -0.0105      0.003     -3.244      0.001      -0.017      -0.004\n",
       "x8            -0.0020      0.002     -1.013      0.312      -0.006       0.002\n",
       "x9             0.0003      0.001      0.298      0.766      -0.002       0.002\n",
       "x10         2.885e-07   2.09e-07      1.382      0.169   -1.23e-07       7e-07\n",
       "x11         1.634e-06   1.23e-06      1.327      0.186   -7.96e-07    4.06e-06\n",
       "x12         1.519e-06   8.35e-07      1.819      0.071   -1.29e-07    3.17e-06\n",
       "x13         1.425e-05   7.01e-06      2.031      0.044    4.09e-07    2.81e-05\n",
       "x14         7.262e-06   5.36e-06      1.355      0.177   -3.32e-06    1.78e-05\n",
       "x15        -1.044e-07   2.12e-06     -0.049      0.961   -4.28e-06    4.08e-06\n",
       "x16            0.0001    4.7e-05      2.800      0.006    3.89e-05       0.000\n",
       "x17         9.021e-06   2.98e-05      0.303      0.762   -4.97e-05    6.78e-05\n",
       "x18        -9.246e-07   1.64e-05     -0.056      0.955   -3.32e-05    3.14e-05\n",
       "x19        -9.334e-07   5.74e-06     -0.163      0.871   -1.23e-05    1.04e-05\n",
       "==============================================================================\n",
       "Omnibus:                        3.868   Durbin-Watson:                   2.181\n",
       "Prob(Omnibus):                  0.145   Jarque-Bera (JB):                4.299\n",
       "Skew:                          -0.130   Prob(JB):                        0.117\n",
       "Kurtosis:                       3.669   Cond. No.                     6.65e+06\n",
       "==============================================================================\n",
       "\n",
       "Notes:\n",
       "[1] R² is computed without centering (uncentered) since the model does not contain a constant.\n",
       "[2] Standard Errors assume that the covariance matrix of the errors is correctly specified.\n",
       "[3] The condition number is large, 6.65e+06. This might indicate that there are\n",
       "strong multicollinearity or other numerical problems.\n",
       "\"\"\""
      ]
     },
     "execution_count": 312,
     "metadata": {},
     "output_type": "execute_result"
    }
   ],
   "source": [
    "final_model.summary()"
   ]
  },
  {
   "cell_type": "code",
   "execution_count": null,
   "id": "bb019ba2",
   "metadata": {},
   "outputs": [],
   "source": []
  }
 ],
 "metadata": {
  "kernelspec": {
   "display_name": "Python 3 (ipykernel)",
   "language": "python",
   "name": "python3"
  },
  "language_info": {
   "codemirror_mode": {
    "name": "ipython",
    "version": 3
   },
   "file_extension": ".py",
   "mimetype": "text/x-python",
   "name": "python",
   "nbconvert_exporter": "python",
   "pygments_lexer": "ipython3",
   "version": "3.9.13"
  }
 },
 "nbformat": 4,
 "nbformat_minor": 5
}
